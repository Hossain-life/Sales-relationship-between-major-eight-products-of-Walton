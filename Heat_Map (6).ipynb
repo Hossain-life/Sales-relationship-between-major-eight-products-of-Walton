{
 "cells": [
  {
   "cell_type": "code",
   "execution_count": 1,
   "id": "2b1b6491",
   "metadata": {},
   "outputs": [
    {
     "name": "stderr",
     "output_type": "stream",
     "text": [
      "WARNING: An illegal reflective access operation has occurred\n",
      "WARNING: Illegal reflective access by org.apache.spark.unsafe.Platform (file:/opt/spark/jars/spark-unsafe_2.12-3.1.2.jar) to constructor java.nio.DirectByteBuffer(long,int)\n",
      "WARNING: Please consider reporting this to the maintainers of org.apache.spark.unsafe.Platform\n",
      "WARNING: Use --illegal-access=warn to enable warnings of further illegal reflective access operations\n",
      "WARNING: All illegal access operations will be denied in a future release\n",
      "22/01/25 06:51:20 WARN NativeCodeLoader: Unable to load native-hadoop library for your platform... using builtin-java classes where applicable\n",
      "Using Spark's default log4j profile: org/apache/spark/log4j-defaults.properties\n",
      "Setting default log level to \"WARN\".\n",
      "To adjust logging level use sc.setLogLevel(newLevel). For SparkR, use setLogLevel(newLevel).\n",
      "22/01/25 06:51:25 WARN ExecutorAllocationManager: Dynamic allocation without a shuffle service is an experimental feature.\n"
     ]
    }
   ],
   "source": [
    "import pyspark\n",
    "import os\n",
    "from pyspark.conf import SparkConf\n",
    "from pyspark.sql import SparkSession\n",
    "\n",
    "conf = (SparkConf()\n",
    "       .set(\"spark.driver.bindAddress\", \"0.0.0.0\")\\\n",
    "       .set(\"spark.submit.deployMode\", \"client\")\\\n",
    "       .set(\"spark.kubernetes.driver.pod.name\", os.getenv(\"MY_POD_NAME\"))\\\n",
    "       .set(\"spark.kubernetes.authenticate.subdmission.caCertFile\", \"/var/run/secrets/kubernetes.io/serviceaccount/ca.crt\")\\\n",
    "       .set(\"spark.kubernetes.authenticate.submission.oauthTokenFile\", \"/var/run/secrets/kubernetes.io/serviceaccount/token\")\\\n",
    "       .set(\"spark.kubernetes.authenticate.driver.serviceAccountName\", \"spark-driver\")\\\n",
    "       .set(\"spark.kubernetes.namespace\", os.getenv(\"MY_POD_NAMESPACE\"))\\\n",
    "       .set(\"spark.executor.instances\", \"1\")\\\n",
    "       .set(\"spark.dynamicAllocation.maxExecutors\", \"2\")\\\n",
    "       .set(\"spark.dynamicAllocation.enabled\", \"true\")\\\n",
    "       .set(\"spark.dynamicAllocation.shuffleTracking.enabled\", \"true\")\\\n",
    "       .set(\"spark.driver.host\", \"spark-driver\")\\\n",
    "       .set(\"spark.driver.port\", \"20020\")\\\n",
    "       .set(\"spark.kubernetes.executor.request.cores\", \"1\")\\\n",
    "       .set(\"spark.kubernetes.executor.limit.cores\", \"2\")\\\n",
    "       .set(\"spark.executor.memory\", \"12000m\")\\\n",
    "       .set(\"spark.kubernetes.container.image\", \"klovercloud/airflow-spark-k8s-driver:3.1.2\")\\\n",
    "       .set(\"spark.kubernetes.container.image.pullPolicy\", \"IfNotPresent\")\\\n",
    "       .set(\"spark.sql.extensions\",\"org.apache.iceberg.spark.extensions.IcebergSparkSessionExtensions\")\\\n",
    "       .set(\"spark.sql.catalog.spark_catalog\",\"org.apache.iceberg.spark.SparkSessionCatalog\")\\\n",
    "       .set(\"spark.sql.catalog.spark_catalog.type\",\"hive\")\\\n",
    "       .set(\"spark.hadoop.hive.metastore.uris\",\"thrift://hive-metastore.analytics-dev:9083\")\\\n",
    "       .set(\"spark.hadoop.hive.metastore.warehouse.dir\",\"s3a://bigdata-dev-cmfcknil/warehouse/\")\\\n",
    "       .set(\"spark.hadoop.fs.s3a.connection.ssl.enabled\",\"true\")\\\n",
    "       .set(\"spark.hadoop.fs.s3a.path.style.access\",\"true\")\\\n",
    "       .set(\"spark.hadoop.fs.s3a.endpoint\",\"https://kcs3.bd-1.wpc.waltonelectronics.com\")\\\n",
    "       .set(\"spark.hadoop.fs.s3a.access.key\",\"30J9IFFY75NVQZVHG4D4\")\\\n",
    "       .set(\"spark.hadoop.fs.s3a.secret.key\",\"WMGk6kqq5erjqZjnqo0QItSQ2zuoNWEpHIphsTgR\")\\\n",
    "       .set(\"spark.hadoop.fs.s3a.attempts.maximum\",\"1\")\\\n",
    "       .set(\"spark.hadoop.fs.s3a.connection.establish.timeout\",\"500\")\\\n",
    "       .set(\"spark.hadoop.datanucleus.autoCreateSchema\",\"true\")\\\n",
    "       .set(\"spark.hadoop.datanucleus.fixedDatastore\",\"false\"));\n",
    "\n",
    "\n",
    "spark = SparkSession.builder \\\n",
    "            .master(\"k8s://https://kubernetes.default:443\") \\\n",
    "            .appName(\"spark-test-app\") \\\n",
    "            .config(conf=conf).enableHiveSupport().getOrCreate()"
   ]
  },
  {
   "cell_type": "code",
   "execution_count": null,
   "id": "ce46866f",
   "metadata": {},
   "outputs": [],
   "source": []
  },
  {
   "cell_type": "code",
   "execution_count": null,
   "id": "50353529",
   "metadata": {},
   "outputs": [],
   "source": []
  },
  {
   "cell_type": "code",
   "execution_count": null,
   "id": "93de9e8f",
   "metadata": {},
   "outputs": [],
   "source": []
  },
  {
   "cell_type": "code",
   "execution_count": 2,
   "id": "ea47ceb1",
   "metadata": {},
   "outputs": [
    {
     "name": "stdout",
     "output_type": "stream",
     "text": [
      "+---------+\n",
      "|namespace|\n",
      "+---------+\n",
      "|  default|\n",
      "|      ebs|\n",
      "|      pos|\n",
      "|   pqspos|\n",
      "|      reg|\n",
      "|    tmpdb|\n",
      "+---------+\n",
      "\n"
     ]
    }
   ],
   "source": [
    "spark.sql(\"SHOW DATABASES;\").show()"
   ]
  },
  {
   "cell_type": "code",
   "execution_count": 3,
   "id": "b6608358",
   "metadata": {},
   "outputs": [
    {
     "name": "stderr",
     "output_type": "stream",
     "text": [
      "22/01/25 06:52:14 WARN MetricsConfig: Cannot locate configuration: tried hadoop-metrics2-s3a-file-system.properties,hadoop-metrics2.properties\n"
     ]
    }
   ],
   "source": [
    "dfM = spark.sql(\"select * from pos.pos___POS_SALE_MST;\")   # Sales Invoice Master\n",
    "dfD = spark.sql(\"select * from pos.pos___POS_SALE_DTLS;\")\n",
    "dfPD = spark.sql(\"select * from pos.pos___POS_PRODUCTS;\")\n",
    "dfC = spark.sql(\"select * from pos.pos___POS_CUSTOMERS;\")\n",
    "dfP = spark.sql(\"select * from pos.pos___POS_PLAZAS;\")"
   ]
  },
  {
   "cell_type": "code",
   "execution_count": 4,
   "id": "79686e6b",
   "metadata": {},
   "outputs": [],
   "source": [
    "dfP = dfP.withColumnRenamed(\"ID\",\"pid\")\n",
    "dfP = dfP.select(\"NAME\",\"pid\")"
   ]
  },
  {
   "cell_type": "code",
   "execution_count": 5,
   "id": "1c391abe",
   "metadata": {},
   "outputs": [],
   "source": [
    "dfM = dfM.withColumnRenamed(\"ID\",\"SID\")\n",
    "dfM = dfM.select(\"INVOICE_NO\",\"CREATED\",\"CREATED_BY\",\"S_TYPE\",\"IS_EMPLOYEE\",\"CUSTOMER_ID\",\"SID\",\"PLAZA_ID\")"
   ]
  },
  {
   "cell_type": "code",
   "execution_count": 6,
   "id": "8b8961cc",
   "metadata": {},
   "outputs": [],
   "source": [
    "dfC = dfC.withColumnRenamed(\"ID\",\"CID\")\n",
    "dfC = dfC.withColumnRenamed(\"NAME\",\"cname\")\n",
    "dfC = dfC.withColumnRenamed(\"MOBILE_PHONE\",\"CUSTOMER_PHONE_NO\")\n",
    "dfC = dfC.withColumnRenamed(\"C_TYPE\",\"CUSTOMER_TYPE\")\n",
    "dfC = dfC.select(\"cname\",\"CUSTOMER_PHONE_NO\",\"CUSTOMER_TYPE\",\"CID\")"
   ]
  },
  {
   "cell_type": "code",
   "execution_count": 7,
   "id": "e2e15fdf",
   "metadata": {},
   "outputs": [],
   "source": [
    "dfPD = dfPD.withColumnRenamed(\"ID\",\"prodid\")\n",
    "\n",
    "dfPD = dfPD.select(\"SEGMENT3\",\"SEGMENT5\",\"prodid\")"
   ]
  },
  {
   "cell_type": "code",
   "execution_count": 8,
   "id": "ed6147be",
   "metadata": {},
   "outputs": [],
   "source": [
    "dfD = dfD.select(\"RATE\",\"QUANTITY\",\"S_TOTAL\",\"REBATE\",\"G_TOTAL\",\"SALE_MST_ID\",\"PRODUCT_ID\")"
   ]
  },
  {
   "cell_type": "code",
   "execution_count": 9,
   "id": "cc8ed6b3",
   "metadata": {},
   "outputs": [],
   "source": [
    "dfD= dfD.filter(dfD.RATE > 1500)"
   ]
  },
  {
   "cell_type": "code",
   "execution_count": 10,
   "id": "24dfbf0c",
   "metadata": {},
   "outputs": [],
   "source": [
    "df1 = dfM.join(dfD,dfM.SID == dfD.SALE_MST_ID,\"inner\")"
   ]
  },
  {
   "cell_type": "code",
   "execution_count": 11,
   "id": "00b5a357",
   "metadata": {},
   "outputs": [],
   "source": [
    "\n",
    "df2= df1.join(dfPD, dfPD.prodid== df1.PRODUCT_ID,\"inner\")"
   ]
  },
  {
   "cell_type": "code",
   "execution_count": 12,
   "id": "9cb02424",
   "metadata": {},
   "outputs": [],
   "source": [
    "df3 = dfC.join(df2,dfC.CID == df2.CUSTOMER_ID,\"inner\")"
   ]
  },
  {
   "cell_type": "code",
   "execution_count": 13,
   "id": "82eb0d8d",
   "metadata": {},
   "outputs": [],
   "source": [
    "df4 = dfP.join(df3,dfP.pid == df3.PLAZA_ID,\"inner\")"
   ]
  },
  {
   "cell_type": "code",
   "execution_count": 14,
   "id": "67f3e7fb",
   "metadata": {},
   "outputs": [],
   "source": [
    "df4 = df4.withColumnRenamed(\"Name\",\"PLAZA_NAME\")"
   ]
  },
  {
   "cell_type": "code",
   "execution_count": 15,
   "id": "03277589",
   "metadata": {},
   "outputs": [],
   "source": [
    "df4 = df4.drop(\"pid\")"
   ]
  },
  {
   "cell_type": "code",
   "execution_count": 16,
   "id": "80e63ee8",
   "metadata": {},
   "outputs": [],
   "source": [
    "df4 = df4.withColumnRenamed(\"cname\",\"CustomerName\")"
   ]
  },
  {
   "cell_type": "code",
   "execution_count": 17,
   "id": "79f98560",
   "metadata": {},
   "outputs": [],
   "source": [
    "df4 = df4.drop(\"CID\")"
   ]
  },
  {
   "cell_type": "code",
   "execution_count": 18,
   "id": "4dd0acdf",
   "metadata": {},
   "outputs": [],
   "source": [
    "df4 = df4.filter(df4.IS_EMPLOYEE == False)"
   ]
  },
  {
   "cell_type": "code",
   "execution_count": 19,
   "id": "acf55e99",
   "metadata": {},
   "outputs": [],
   "source": [
    "#df4 = df4.where('''Customer_Type in ('Retail','Hire')''')\n",
    "df4 = df4.filter(df4.CUSTOMER_TYPE.contains('Retail')|df4.CUSTOMER_TYPE.contains('Hire'))"
   ]
  },
  {
   "cell_type": "code",
   "execution_count": 20,
   "id": "343e7b67",
   "metadata": {},
   "outputs": [],
   "source": [
    "df4 = df4.filter(df4.CREATED_BY != \"OPENING_HIRE\")"
   ]
  },
  {
   "cell_type": "code",
   "execution_count": 21,
   "id": "54638a86",
   "metadata": {},
   "outputs": [],
   "source": [
    "import pyspark.sql.functions as funcs\n",
    "df4 = df4.withColumn(\"date_of_registration\",funcs.to_date(funcs.col(\"CREATED\")))"
   ]
  },
  {
   "cell_type": "code",
   "execution_count": 22,
   "id": "fb7a3341",
   "metadata": {},
   "outputs": [],
   "source": [
    "df4 = df4.drop(\"CREATED\")"
   ]
  },
  {
   "cell_type": "code",
   "execution_count": 23,
   "id": "7cb3415d",
   "metadata": {},
   "outputs": [],
   "source": [
    "\n",
    "## put it on top\n",
    "from pyspark.sql.functions import *\n",
    "from pyspark.sql.functions import when, lit, col\n",
    "import pyspark.sql.functions as F\n",
    " \n",
    " \n",
    " \n",
    "df4 = df4.filter(df4[\"date_of_registration\"] >= lit('2016-01-01')) "
   ]
  },
  {
   "cell_type": "code",
   "execution_count": 24,
   "id": "eb78021a",
   "metadata": {},
   "outputs": [],
   "source": [
    "dfMaster = df4.cache()"
   ]
  },
  {
   "cell_type": "code",
   "execution_count": 25,
   "id": "7ba4a680",
   "metadata": {},
   "outputs": [],
   "source": [
    "dfMaster = dfMaster.withColumnRenamed(\"CUSTOMER_PHONE_NO\",\"CustomerPhoneNumber\")"
   ]
  },
  {
   "cell_type": "code",
   "execution_count": 26,
   "id": "0cac1c69",
   "metadata": {},
   "outputs": [],
   "source": [
    "df = dfMaster.cache()"
   ]
  },
  {
   "cell_type": "markdown",
   "id": "b62afd30",
   "metadata": {},
   "source": [
    "## Removing null values of Customerphonenumber"
   ]
  },
  {
   "cell_type": "code",
   "execution_count": 27,
   "id": "422381d2",
   "metadata": {},
   "outputs": [],
   "source": [
    "df = df.filter(df.CustomerPhoneNumber.isNotNull())"
   ]
  },
  {
   "cell_type": "markdown",
   "id": "d24b9e49",
   "metadata": {},
   "source": [
    "# Remove zeros from customerphonenumber column"
   ]
  },
  {
   "cell_type": "code",
   "execution_count": 28,
   "id": "1f696269",
   "metadata": {},
   "outputs": [],
   "source": [
    "df = df.filter(df.CustomerPhoneNumber != \"0\")"
   ]
  },
  {
   "cell_type": "markdown",
   "id": "6caacfb1",
   "metadata": {},
   "source": [
    "## Remove leading plus minus sign from customerphonenumber column"
   ]
  },
  {
   "cell_type": "code",
   "execution_count": 29,
   "id": "a433a645",
   "metadata": {},
   "outputs": [],
   "source": [
    "\n",
    "#Remove leading plus minus sign\n",
    "from pyspark.sql.functions import *\n",
    "\n",
    "import pyspark.sql.functions as F\n",
    "\n",
    " \n",
    "\n",
    "df = df.withColumn('CustomerPhoneNumber', F.regexp_replace('CustomerPhoneNumber', r'^[±]*', ''))"
   ]
  },
  {
   "cell_type": "markdown",
   "id": "e077323e",
   "metadata": {},
   "source": [
    "## Remove punctuation from customerphonenumber column"
   ]
  },
  {
   "cell_type": "code",
   "execution_count": 30,
   "id": "b1d82fa1",
   "metadata": {},
   "outputs": [],
   "source": [
    "### Remove punctuation from column in pyspark\n",
    "df = df.withColumn('CustomerPhoneNumber', F.regexp_replace('CustomerPhoneNumber', r'[^\\w\\s]', ''))"
   ]
  },
  {
   "cell_type": "markdown",
   "id": "6cfe16ab",
   "metadata": {},
   "source": [
    "## Remove all special characters from CustomerPhoneNumber column"
   ]
  },
  {
   "cell_type": "code",
   "execution_count": 31,
   "id": "b2c5cef0",
   "metadata": {},
   "outputs": [],
   "source": [
    "### Remove all special characters\n",
    "df = df.withColumn('CustomerPhoneNumber', F.regexp_replace('CustomerPhoneNumber', r'\\W', ''))\n"
   ]
  },
  {
   "cell_type": "markdown",
   "id": "396190d0",
   "metadata": {},
   "source": [
    "## Remove leading eight from CustomerPhoneNumber column"
   ]
  },
  {
   "cell_type": "code",
   "execution_count": 32,
   "id": "ff679a8d",
   "metadata": {},
   "outputs": [],
   "source": [
    "##Remove leading eight\n",
    "df = df.withColumn('CustomerPhoneNumber', F.regexp_replace('CustomerPhoneNumber', r'^[8]*', ''))"
   ]
  },
  {
   "cell_type": "markdown",
   "id": "91e99e62",
   "metadata": {},
   "source": [
    "# Dropping na values from customerphonenumber column"
   ]
  },
  {
   "cell_type": "code",
   "execution_count": 33,
   "id": "7b44786d",
   "metadata": {},
   "outputs": [],
   "source": [
    "df = df.na.drop(subset=[\"CustomerPhoneNumber\"])"
   ]
  },
  {
   "cell_type": "markdown",
   "id": "7ecfad45",
   "metadata": {},
   "source": [
    "## Remove english alphabets from customerphonenumber column"
   ]
  },
  {
   "cell_type": "code",
   "execution_count": 34,
   "id": "32630c11",
   "metadata": {},
   "outputs": [],
   "source": [
    "df = df.withColumn('CustomerPhoneNumber', F.regexp_replace('CustomerPhoneNumber', r'[A-Za-z]', ''))"
   ]
  },
  {
   "cell_type": "markdown",
   "id": "2861286d",
   "metadata": {},
   "source": [
    "## Removing empty strings"
   ]
  },
  {
   "cell_type": "code",
   "execution_count": 35,
   "id": "17323478",
   "metadata": {},
   "outputs": [],
   "source": [
    "df = df.filter(df.CustomerPhoneNumber != \"\")\n",
    "#df= df.cache()   # using cache"
   ]
  },
  {
   "cell_type": "markdown",
   "id": "7985e031",
   "metadata": {},
   "source": [
    "## Remove leadning plus sign from customerphonenumber column"
   ]
  },
  {
   "cell_type": "code",
   "execution_count": 36,
   "id": "78f99db0",
   "metadata": {},
   "outputs": [],
   "source": [
    "#remove leading plus\n",
    "df = df.withColumn('CustomerPhoneNumber', F.regexp_replace('CustomerPhoneNumber', r'^[+]*', ''))"
   ]
  },
  {
   "cell_type": "markdown",
   "id": "8c1c5772",
   "metadata": {},
   "source": [
    "## Remove | from customerphonenumber column"
   ]
  },
  {
   "cell_type": "code",
   "execution_count": 37,
   "id": "7e6b0c27",
   "metadata": {},
   "outputs": [],
   "source": [
    "#remove |\n",
    "df = df.withColumn('CustomerPhoneNumber', F.regexp_replace('CustomerPhoneNumber', r'|', ''))"
   ]
  },
  {
   "cell_type": "markdown",
   "id": "5ca18cd5",
   "metadata": {},
   "source": [
    "## Remove / from customerphonenumber column"
   ]
  },
  {
   "cell_type": "code",
   "execution_count": 38,
   "id": "f4041405",
   "metadata": {},
   "outputs": [],
   "source": [
    "df = df.withColumn('CustomerPhoneNumber', F.regexp_replace('CustomerPhoneNumber', r'/', ''))"
   ]
  },
  {
   "cell_type": "markdown",
   "id": "36b5851c",
   "metadata": {},
   "source": [
    "## Remove all non-english characters"
   ]
  },
  {
   "cell_type": "code",
   "execution_count": 39,
   "id": "2185c01b",
   "metadata": {},
   "outputs": [],
   "source": [
    "#removing all non english characters\n",
    "df = df.withColumn('CustomerPhoneNumber', F.regexp_replace('CustomerPhoneNumber', r'/[^\\x00-\\x7F]+/', ''))"
   ]
  },
  {
   "cell_type": "markdown",
   "id": "684b420c",
   "metadata": {},
   "source": [
    "## Removing empty strings after final data cleaning"
   ]
  },
  {
   "cell_type": "code",
   "execution_count": 40,
   "id": "8c538b2c",
   "metadata": {},
   "outputs": [],
   "source": [
    "df = df.filter(df.CustomerPhoneNumber != \"\")"
   ]
  },
  {
   "cell_type": "markdown",
   "id": "87e463b4",
   "metadata": {},
   "source": [
    "# Removing all spaces from CustomerPhonenumber column"
   ]
  },
  {
   "cell_type": "code",
   "execution_count": 41,
   "id": "88cd8007",
   "metadata": {},
   "outputs": [],
   "source": [
    "#removing all spaces\n",
    "df = df.withColumn('CustomerPhoneNumber', F.regexp_replace('CustomerPhoneNumber', r'/\\s/g', ''))\n",
    "\n",
    "\n"
   ]
  },
  {
   "cell_type": "markdown",
   "id": "ef2cdb8e",
   "metadata": {},
   "source": [
    "## Finding the length of customerphonenumber in customerphonenumber column"
   ]
  },
  {
   "cell_type": "code",
   "execution_count": 42,
   "id": "7db35a94",
   "metadata": {},
   "outputs": [],
   "source": [
    "from pyspark.sql.functions import length\n",
    "df = df.withColumn(\"length\", F.length(\"CustomerPhoneNumber\"))"
   ]
  },
  {
   "cell_type": "markdown",
   "id": "d3de8596",
   "metadata": {},
   "source": [
    "## Remove all customers who do not have 11 digit number"
   ]
  },
  {
   "cell_type": "code",
   "execution_count": 43,
   "id": "f16f9a36",
   "metadata": {},
   "outputs": [],
   "source": [
    "df = df.filter(df.length == 11)"
   ]
  },
  {
   "cell_type": "markdown",
   "id": "69f1680a",
   "metadata": {},
   "source": [
    "## Remove all customers whose phone numbers do not start with 01"
   ]
  },
  {
   "cell_type": "code",
   "execution_count": 44,
   "id": "11f3207e",
   "metadata": {},
   "outputs": [
    {
     "name": "stderr",
     "output_type": "stream",
     "text": [
      "22/01/25 06:53:27 WARN package: Truncated the string representation of a plan since it was too large. This behavior can be adjusted by setting 'spark.sql.debug.maxToStringFields'.\n"
     ]
    }
   ],
   "source": [
    "df.createOrReplaceTempView(\"table1\")"
   ]
  },
  {
   "cell_type": "code",
   "execution_count": 45,
   "id": "716d66f1",
   "metadata": {},
   "outputs": [],
   "source": [
    "df10 = spark.sql(\"SELECT * FROM table1 where CustomerPhoneNumber like '01%'\")"
   ]
  },
  {
   "cell_type": "markdown",
   "id": "488139d5",
   "metadata": {},
   "source": [
    "## Remove all customers whose phone numbers start with 010,011 and 012"
   ]
  },
  {
   "cell_type": "code",
   "execution_count": 46,
   "id": "d5c765ea",
   "metadata": {},
   "outputs": [],
   "source": [
    "df10.createOrReplaceTempView(\"table2\")"
   ]
  },
  {
   "cell_type": "code",
   "execution_count": 47,
   "id": "479df52e",
   "metadata": {},
   "outputs": [],
   "source": [
    "df12 = spark.sql(\"SELECT * FROM table2 where CustomerPhoneNumber not like '010%'\")"
   ]
  },
  {
   "cell_type": "code",
   "execution_count": 48,
   "id": "06d53db5",
   "metadata": {},
   "outputs": [],
   "source": [
    "df12.createOrReplaceTempView(\"table3\")"
   ]
  },
  {
   "cell_type": "code",
   "execution_count": 49,
   "id": "9e2ab0c6",
   "metadata": {},
   "outputs": [],
   "source": [
    "df13 = spark.sql(\"SELECT * FROM table3 where CustomerPhoneNumber not like '011%'\")"
   ]
  },
  {
   "cell_type": "code",
   "execution_count": 50,
   "id": "deb4402f",
   "metadata": {},
   "outputs": [],
   "source": [
    "df13.createOrReplaceTempView(\"table4\")"
   ]
  },
  {
   "cell_type": "code",
   "execution_count": 51,
   "id": "97d1738a",
   "metadata": {},
   "outputs": [],
   "source": [
    "df15 = spark.sql(\"SELECT * FROM table4 where CustomerPhoneNumber not like '012%'\")"
   ]
  },
  {
   "cell_type": "code",
   "execution_count": 52,
   "id": "a01a3574",
   "metadata": {},
   "outputs": [],
   "source": [
    "df = df15.cache()"
   ]
  },
  {
   "cell_type": "markdown",
   "id": "b58c9801",
   "metadata": {},
   "source": [
    "# Remove all customers whose phonenumbers have last seven zero digits or eight zero digits."
   ]
  },
  {
   "cell_type": "code",
   "execution_count": 53,
   "id": "a0e0ea17",
   "metadata": {},
   "outputs": [],
   "source": [
    "df = df.withColumn('remaining_strings', substring('CustomerPhoneNumber', 4, 11))"
   ]
  },
  {
   "cell_type": "code",
   "execution_count": 54,
   "id": "69f76efd",
   "metadata": {},
   "outputs": [],
   "source": [
    "df = df.filter(df.remaining_strings != \"00000000\")"
   ]
  },
  {
   "cell_type": "code",
   "execution_count": 55,
   "id": "12903594",
   "metadata": {},
   "outputs": [],
   "source": [
    "df = df.withColumn('remaining_new', substring('remaining_strings', 1, 7))"
   ]
  },
  {
   "cell_type": "code",
   "execution_count": 56,
   "id": "28a6ce23",
   "metadata": {},
   "outputs": [],
   "source": [
    "df = df.filter(df.remaining_new != \"0000000\")"
   ]
  },
  {
   "cell_type": "code",
   "execution_count": 57,
   "id": "d5cda0c4",
   "metadata": {},
   "outputs": [
    {
     "name": "stderr",
     "output_type": "stream",
     "text": [
      "                                                                                \r"
     ]
    }
   ],
   "source": [
    "employeephonenumber = spark.read.load(\"s3a://bigdata-dev-cmfcknil/raw/init/posdb/pos/employee_list_final.csv\",inferSchema='true', format='csv')"
   ]
  },
  {
   "cell_type": "markdown",
   "id": "ac077d8b",
   "metadata": {},
   "source": [
    "Let's rename the column _c0 with number"
   ]
  },
  {
   "cell_type": "code",
   "execution_count": 58,
   "id": "8a099d50",
   "metadata": {},
   "outputs": [],
   "source": [
    "employeephonenumber = employeephonenumber.withColumnRenamed(\"_c0\",\"Number\")"
   ]
  },
  {
   "cell_type": "markdown",
   "id": "cda38e78",
   "metadata": {},
   "source": [
    "Let's remove leading eight characters from employee customerphonenumber column"
   ]
  },
  {
   "cell_type": "code",
   "execution_count": 59,
   "id": "05a19f76",
   "metadata": {},
   "outputs": [],
   "source": [
    "employeephonenumber = employeephonenumber.withColumn('Number', F.regexp_replace('Number', r'^[8]*', ''))"
   ]
  },
  {
   "cell_type": "markdown",
   "id": "0bc905ba",
   "metadata": {},
   "source": [
    " Let's make employeephonenumber distinct and convert it into list.   "
   ]
  },
  {
   "cell_type": "code",
   "execution_count": 60,
   "id": "b1e22efc",
   "metadata": {},
   "outputs": [],
   "source": [
    "employeefinal = employeephonenumber.select(\"Number\").distinct()"
   ]
  },
  {
   "cell_type": "code",
   "execution_count": 61,
   "id": "602f82ce",
   "metadata": {},
   "outputs": [
    {
     "name": "stderr",
     "output_type": "stream",
     "text": [
      "                                                                                \r"
     ]
    }
   ],
   "source": [
    "employee = employeefinal.select(\"Number\").rdd.flatMap(lambda x: x).collect()"
   ]
  },
  {
   "cell_type": "markdown",
   "id": "2313138d",
   "metadata": {},
   "source": [
    "Let's remove phone number of employees."
   ]
  },
  {
   "cell_type": "code",
   "execution_count": 62,
   "id": "2c00078a",
   "metadata": {},
   "outputs": [],
   "source": [
    "df = df.filter(~df.CustomerPhoneNumber.isin(employee))"
   ]
  },
  {
   "cell_type": "markdown",
   "id": "f2f94bf6",
   "metadata": {},
   "source": [
    "## Check whether employees are removed or not."
   ]
  },
  {
   "cell_type": "code",
   "execution_count": 63,
   "id": "8b50c1db",
   "metadata": {},
   "outputs": [],
   "source": [
    "dfcheck = df.filter(df.CustomerPhoneNumber.isin(employee))"
   ]
  },
  {
   "cell_type": "code",
   "execution_count": 64,
   "id": "c90a7372",
   "metadata": {},
   "outputs": [
    {
     "name": "stdout",
     "output_type": "stream",
     "text": [
      "+----------+------------+-------------------+-------------+----------+----------+------+-----------+-----------+---+--------+----+--------+-------+------+-------+-----------+----------+--------+--------+------+--------------------+------+-----------------+-------------+\n",
      "|PLAZA_NAME|CustomerName|CustomerPhoneNumber|CUSTOMER_TYPE|INVOICE_NO|CREATED_BY|S_TYPE|IS_EMPLOYEE|CUSTOMER_ID|SID|PLAZA_ID|RATE|QUANTITY|S_TOTAL|REBATE|G_TOTAL|SALE_MST_ID|PRODUCT_ID|SEGMENT3|SEGMENT5|prodid|date_of_registration|length|remaining_strings|remaining_new|\n",
      "+----------+------------+-------------------+-------------+----------+----------+------+-----------+-----------+---+--------+----+--------+-------+------+-------+-----------+----------+--------+--------+------+--------------------+------+-----------------+-------------+\n",
      "+----------+------------+-------------------+-------------+----------+----------+------+-----------+-----------+---+--------+----+--------+-------+------+-------+-----------+----------+--------+--------+------+--------------------+------+-----------------+-------------+\n",
      "\n"
     ]
    }
   ],
   "source": [
    "dfcheck.show(5)"
   ]
  },
  {
   "cell_type": "markdown",
   "id": "0f136896",
   "metadata": {},
   "source": [
    "## Preprocessing completed\n"
   ]
  },
  {
   "cell_type": "code",
   "execution_count": 65,
   "id": "906ad64b",
   "metadata": {},
   "outputs": [],
   "source": [
    "df = df.withColumnRenamed(\"PLAZA_NAME\",\"Account_Name\")"
   ]
  },
  {
   "cell_type": "code",
   "execution_count": 66,
   "id": "41ea9a59",
   "metadata": {},
   "outputs": [
    {
     "name": "stderr",
     "output_type": "stream",
     "text": [
      "                                                                                \r"
     ]
    }
   ],
   "source": [
    "dfactive = spark.read.load(\"s3a://bigdata-dev-cmfcknil/raw/init/posdb/pos/ACTIVE_PLAZAS_UP.csv\", header='true',inferSchema='true', format='csv')"
   ]
  },
  {
   "cell_type": "code",
   "execution_count": 67,
   "id": "8732ca3e",
   "metadata": {},
   "outputs": [],
   "source": [
    "dfnew = dfactive.join(df,dfactive.PLAZA_NAME == df.Account_Name,\"inner\")"
   ]
  },
  {
   "cell_type": "code",
   "execution_count": 68,
   "id": "b4ba390d",
   "metadata": {},
   "outputs": [],
   "source": [
    "df = dfnew.cache()"
   ]
  },
  {
   "cell_type": "code",
   "execution_count": 69,
   "id": "a803545c",
   "metadata": {},
   "outputs": [],
   "source": [
    "df = df.filter(col(\"SEGMENT3\").isin('AIRCONDITIONER','REFRIGERATOR','3D TELEVISION','ALL IN ONE','AIRCONDITIONER-INDOOR','BEVERAGE COOLER','LAPTOP','DESKTOP PC','SERVER','FREEZER','MICROWAVE OVEN','LED TELEVISION','LED SMART TELEVISION','WASHING MACHINE'))"
   ]
  },
  {
   "cell_type": "code",
   "execution_count": 70,
   "id": "741685f6",
   "metadata": {},
   "outputs": [],
   "source": [
    "from pyspark.sql.functions import year\n",
    "\n",
    "df = df.withColumn('Year',year(df.date_of_registration))\n",
    "\n",
    "\n"
   ]
  },
  {
   "cell_type": "code",
   "execution_count": 71,
   "id": "b24fac21",
   "metadata": {},
   "outputs": [],
   "source": [
    "df = df.select(\"CustomerPhoneNumber\",\"SEGMENT3\",\"Year\")"
   ]
  },
  {
   "cell_type": "markdown",
   "id": "32d93191",
   "metadata": {},
   "source": [
    "## Now convert laptop,desktop pc,server,all in one into computer"
   ]
  },
  {
   "cell_type": "code",
   "execution_count": 72,
   "id": "34b99c55",
   "metadata": {},
   "outputs": [],
   "source": [
    "from pyspark.sql.functions import when\n",
    "\n",
    "df = df.withColumn('SEGMENT3',\n",
    "    F.when((df.SEGMENT3 == \"LAPTOP\") | (df.SEGMENT3 == 'DESKTOP PC') | (df.SEGMENT3 == 'SERVER') | (df.SEGMENT3 == 'ALL IN ONE'), \"COMPUTER\").otherwise(df.SEGMENT3))\n"
   ]
  },
  {
   "cell_type": "markdown",
   "id": "327b4e16",
   "metadata": {},
   "source": [
    "# Now convert 3D Television into led smart television"
   ]
  },
  {
   "cell_type": "code",
   "execution_count": 73,
   "id": "f2df6e82",
   "metadata": {},
   "outputs": [],
   "source": [
    "df = df.withColumn('SEGMENT3',\n",
    "    F.when((df.SEGMENT3 == \"3D TELEVISION\") , \"LED SMART TELEVISION\").otherwise(df.SEGMENT3))\n"
   ]
  },
  {
   "cell_type": "markdown",
   "id": "b2b7f9d3",
   "metadata": {},
   "source": [
    "# Now convert LCD TELEVISION into LED TELEVISION"
   ]
  },
  {
   "cell_type": "code",
   "execution_count": 74,
   "id": "8b8d6788",
   "metadata": {},
   "outputs": [],
   "source": [
    "df = df.withColumn('SEGMENT3',\n",
    "    F.when((df.SEGMENT3 == \"LCD TELEVISION\") , \"LED TELEVISION\").otherwise(df.SEGMENT3))"
   ]
  },
  {
   "cell_type": "markdown",
   "id": "b7dc41c0",
   "metadata": {},
   "source": [
    "# Now convert Beverage cooler into refrigerator"
   ]
  },
  {
   "cell_type": "code",
   "execution_count": 75,
   "id": "8eed8df6",
   "metadata": {},
   "outputs": [],
   "source": [
    "df = df.withColumn('SEGMENT3',\n",
    "    F.when((df.SEGMENT3 == \"BEVERAGE COOLER\") , \"REFRIGERATOR\").otherwise(df.SEGMENT3))"
   ]
  },
  {
   "cell_type": "markdown",
   "id": "0c53160b",
   "metadata": {},
   "source": [
    "# Now convert airconditioner-indoor into airconditioner"
   ]
  },
  {
   "cell_type": "code",
   "execution_count": 76,
   "id": "75f0e3b7",
   "metadata": {},
   "outputs": [],
   "source": [
    "df = df.withColumn('SEGMENT3',\n",
    "    F.when((df.SEGMENT3 == \"AIRCONDITIONER-INDOOR\") , \"AIRCONDITIONER\").otherwise(df.SEGMENT3))\n"
   ]
  },
  {
   "cell_type": "code",
   "execution_count": 77,
   "id": "76db43b1",
   "metadata": {},
   "outputs": [],
   "source": [
    "dfselected = df.select(\"CustomerPhoneNumber\",\"SEGMENT3\",\"Year\")"
   ]
  },
  {
   "cell_type": "code",
   "execution_count": 78,
   "id": "3618ff6d",
   "metadata": {},
   "outputs": [],
   "source": [
    "dfcountfinal = df.groupby('CustomerPhoneNumber','SEGMENT3').agg(funcs.expr('count(SEGMENT3)')\\\n",
    "                              .alias('productcount'))"
   ]
  },
  {
   "cell_type": "code",
   "execution_count": 79,
   "id": "3f384fc7",
   "metadata": {},
   "outputs": [],
   "source": [
    "dfcountfinal = dfcountfinal.filter(dfcountfinal.productcount < 5)"
   ]
  },
  {
   "cell_type": "code",
   "execution_count": 80,
   "id": "e400b94a",
   "metadata": {},
   "outputs": [],
   "source": [
    "dfcountfinalaircon = dfcountfinal.filter(dfcountfinal.SEGMENT3 == \"AIRCONDITIONER\")"
   ]
  },
  {
   "cell_type": "code",
   "execution_count": 81,
   "id": "5cd5239b",
   "metadata": {},
   "outputs": [],
   "source": [
    "dfcountfinalaircon = dfcountfinalaircon.filter(dfcountfinalaircon.productcount <= 4)"
   ]
  },
  {
   "cell_type": "code",
   "execution_count": 82,
   "id": "e01a01e8",
   "metadata": {},
   "outputs": [],
   "source": [
    "dfcountfinalcomputer = dfcountfinal.filter(dfcountfinal.SEGMENT3 == \"COMPUTER\")"
   ]
  },
  {
   "cell_type": "code",
   "execution_count": 83,
   "id": "31ef3ab7",
   "metadata": {},
   "outputs": [],
   "source": [
    "dfcountfinalcomputer = dfcountfinalcomputer.filter(dfcountfinalcomputer.productcount <= 3)"
   ]
  },
  {
   "cell_type": "code",
   "execution_count": 84,
   "id": "110f855c",
   "metadata": {},
   "outputs": [],
   "source": [
    "dfcountfinalfreezer = dfcountfinal.filter(dfcountfinal.SEGMENT3 == \"FREEZER\")"
   ]
  },
  {
   "cell_type": "code",
   "execution_count": 85,
   "id": "f17bb5ff",
   "metadata": {},
   "outputs": [],
   "source": [
    "dfcountfinalfreezer = dfcountfinalfreezer.filter(dfcountfinalfreezer.productcount <= 3)"
   ]
  },
  {
   "cell_type": "code",
   "execution_count": 86,
   "id": "9bdc02d2",
   "metadata": {},
   "outputs": [],
   "source": [
    "dfcountfinaltelevision = dfcountfinal.filter((dfcountfinal.SEGMENT3 == \"LED TELEVISION\") | (dfcountfinal.SEGMENT3 == \"LED SMART TELEVISION\"))"
   ]
  },
  {
   "cell_type": "code",
   "execution_count": 87,
   "id": "cbea07e6",
   "metadata": {},
   "outputs": [],
   "source": [
    "dfcountfinaltelevision = dfcountfinaltelevision.filter(dfcountfinaltelevision.productcount <= 4)"
   ]
  },
  {
   "cell_type": "code",
   "execution_count": 88,
   "id": "ca709c3c",
   "metadata": {},
   "outputs": [],
   "source": [
    "dfcountfinalmicrowaveoven = dfcountfinal.filter(dfcountfinal.SEGMENT3 == \"MICROWAVE OVEN\")"
   ]
  },
  {
   "cell_type": "code",
   "execution_count": 89,
   "id": "d7292c6b",
   "metadata": {},
   "outputs": [],
   "source": [
    "dfcountfinalmicrowaveoven = dfcountfinalmicrowaveoven.filter(dfcountfinalmicrowaveoven.productcount <= 4)"
   ]
  },
  {
   "cell_type": "code",
   "execution_count": 90,
   "id": "84434b99",
   "metadata": {},
   "outputs": [],
   "source": [
    "dfcountfinalrefrigerator = dfcountfinal.filter(dfcountfinal.SEGMENT3 == \"REFRIGERATOR\")"
   ]
  },
  {
   "cell_type": "code",
   "execution_count": 91,
   "id": "c659c39c",
   "metadata": {},
   "outputs": [],
   "source": [
    "dfcountfinalrefrigerator = dfcountfinalrefrigerator.filter(dfcountfinalrefrigerator.productcount <= 4)"
   ]
  },
  {
   "cell_type": "code",
   "execution_count": 92,
   "id": "53e8619c",
   "metadata": {},
   "outputs": [],
   "source": [
    "dfcountfinalwashingmachine = dfcountfinal.filter(dfcountfinal.SEGMENT3 == \"WASHING MACHINE\")"
   ]
  },
  {
   "cell_type": "code",
   "execution_count": 93,
   "id": "efe80bc6",
   "metadata": {},
   "outputs": [],
   "source": [
    "dfcountfinalwashingmachine = dfcountfinalwashingmachine.filter(dfcountfinalwashingmachine.productcount <= 3)"
   ]
  },
  {
   "cell_type": "code",
   "execution_count": 94,
   "id": "46a1b630",
   "metadata": {},
   "outputs": [],
   "source": [
    "resultant = dfcountfinalaircon.union(dfcountfinalcomputer)"
   ]
  },
  {
   "cell_type": "code",
   "execution_count": 95,
   "id": "703e8fbb",
   "metadata": {},
   "outputs": [],
   "source": [
    "resultant1 = resultant.union(dfcountfinalfreezer)"
   ]
  },
  {
   "cell_type": "code",
   "execution_count": 96,
   "id": "3cb93901",
   "metadata": {},
   "outputs": [],
   "source": [
    "resultant2 = resultant1.union(dfcountfinaltelevision)"
   ]
  },
  {
   "cell_type": "code",
   "execution_count": 97,
   "id": "09268a56",
   "metadata": {},
   "outputs": [],
   "source": [
    "resultant3 = resultant2.union(dfcountfinalmicrowaveoven)"
   ]
  },
  {
   "cell_type": "code",
   "execution_count": 98,
   "id": "bc989ddd",
   "metadata": {},
   "outputs": [],
   "source": [
    "resultant4 = resultant3.union(dfcountfinalrefrigerator)"
   ]
  },
  {
   "cell_type": "code",
   "execution_count": 99,
   "id": "94cab54a",
   "metadata": {},
   "outputs": [],
   "source": [
    "resultant5 = resultant4.union(dfcountfinalwashingmachine)"
   ]
  },
  {
   "cell_type": "code",
   "execution_count": 100,
   "id": "9abfed13",
   "metadata": {},
   "outputs": [],
   "source": [
    "resultant5 = resultant5.withColumnRenamed(\"CustomerPhoneNumber\",\"Number\")"
   ]
  },
  {
   "cell_type": "code",
   "execution_count": 101,
   "id": "79b79a6a",
   "metadata": {},
   "outputs": [],
   "source": [
    "dfselected = dfselected.withColumnRenamed(\"SEGMENT3\",\"Product\")"
   ]
  },
  {
   "cell_type": "code",
   "execution_count": 102,
   "id": "cd1d7ab5",
   "metadata": {},
   "outputs": [
    {
     "name": "stderr",
     "output_type": "stream",
     "text": [
      "/usr/local/lib/python3.8/dist-packages/pyspark/sql/dataframe.py:138: FutureWarning: Deprecated in 2.0, use createOrReplaceTempView instead.\n",
      "  warnings.warn(\n"
     ]
    }
   ],
   "source": [
    "resultant5.registerTempTable(\"resultant5\")\n",
    "dfselected.registerTempTable(\"dfselected\")"
   ]
  },
  {
   "cell_type": "code",
   "execution_count": 103,
   "id": "aade862a",
   "metadata": {},
   "outputs": [],
   "source": [
    "new = spark.sql(\"SELECT dfselected.CustomerPhoneNumber,resultant5.SEGMENT3,dfselected.Year,resultant5.productcount from resultant5 inner join dfselected on resultant5.Number = dfselected.CustomerPhoneNumber and resultant5.SEGMENT3 = dfselected.Product\")"
   ]
  },
  {
   "cell_type": "code",
   "execution_count": 104,
   "id": "30b29318",
   "metadata": {},
   "outputs": [],
   "source": [
    "df = new.cache()"
   ]
  },
  {
   "cell_type": "code",
   "execution_count": 105,
   "id": "90f5ba46",
   "metadata": {},
   "outputs": [],
   "source": [
    "df = df.dropDuplicates()"
   ]
  },
  {
   "cell_type": "code",
   "execution_count": 106,
   "id": "56dfd2ff",
   "metadata": {},
   "outputs": [],
   "source": [
    "forrex = df.cache()"
   ]
  },
  {
   "cell_type": "code",
   "execution_count": 107,
   "id": "043aa719",
   "metadata": {},
   "outputs": [],
   "source": [
    "forrex = forrex.drop(\"Year\",\"productcount\")"
   ]
  },
  {
   "cell_type": "code",
   "execution_count": 108,
   "id": "af5ea1e4",
   "metadata": {},
   "outputs": [],
   "source": [
    "forrex = forrex.withColumn('AIRCONDITIONER',\n",
    "    F.when((forrex.SEGMENT3 == \"AIRCONDITIONER\") , 1).otherwise(0))"
   ]
  },
  {
   "cell_type": "code",
   "execution_count": 109,
   "id": "c2369f5b",
   "metadata": {},
   "outputs": [],
   "source": [
    "forrex = forrex.withColumn('FREEZER',\n",
    "    F.when((forrex.SEGMENT3 == \"FREEZER\") , 1).otherwise(0))"
   ]
  },
  {
   "cell_type": "code",
   "execution_count": 110,
   "id": "4e8f3126",
   "metadata": {},
   "outputs": [],
   "source": [
    "forrex = forrex.withColumn('REFRIGERATOR',\n",
    "    F.when((forrex.SEGMENT3 == \"REFRIGERATOR\") , 1).otherwise(0))"
   ]
  },
  {
   "cell_type": "code",
   "execution_count": 111,
   "id": "df0ca049",
   "metadata": {},
   "outputs": [],
   "source": [
    "forrex = forrex.withColumn('COMPUTER',\n",
    "    F.when((forrex.SEGMENT3 == \"COMPUTER\") , 1).otherwise(0))"
   ]
  },
  {
   "cell_type": "code",
   "execution_count": 112,
   "id": "8c92af6c",
   "metadata": {},
   "outputs": [],
   "source": [
    "forrex = forrex.withColumn('LED TELEVISION',\n",
    "    F.when((forrex.SEGMENT3 == \"LED TELEVISION\") , 1).otherwise(0))"
   ]
  },
  {
   "cell_type": "code",
   "execution_count": 113,
   "id": "5ef7eda1",
   "metadata": {},
   "outputs": [],
   "source": [
    "forrex = forrex.withColumn('LED SMART TELEVISION',\n",
    "    F.when((forrex.SEGMENT3 == \"LED SMART TELEVISION\") , 1).otherwise(0))"
   ]
  },
  {
   "cell_type": "code",
   "execution_count": 114,
   "id": "750b1926",
   "metadata": {},
   "outputs": [],
   "source": [
    "forrex = forrex.withColumn('WASHING MACHINE',\n",
    "    F.when((forrex.SEGMENT3 == \"WASHING MACHINE\") , 1).otherwise(0))"
   ]
  },
  {
   "cell_type": "code",
   "execution_count": 115,
   "id": "75985020",
   "metadata": {},
   "outputs": [],
   "source": [
    "forrex = forrex.withColumn('MICROWAVE OVEN',\n",
    "    F.when((forrex.SEGMENT3 == \"MICROWAVE OVEN\") , 1).otherwise(0))"
   ]
  },
  {
   "cell_type": "code",
   "execution_count": 116,
   "id": "03d2d172",
   "metadata": {},
   "outputs": [],
   "source": [
    "forrex = forrex.drop(\"SEGMENT3\")"
   ]
  },
  {
   "cell_type": "code",
   "execution_count": 117,
   "id": "f1b66380",
   "metadata": {},
   "outputs": [],
   "source": [
    "forrexcountaircon = forrex.select(\"CustomerPhoneNumber\",\"AIRCONDITIONER\")\n",
    "forrexcountaircon = forrexcountaircon.filter(forrexcountaircon.AIRCONDITIONER != 0)\n",
    "forrexcountaircon = forrexcountaircon.groupby('CustomerPhoneNumber').agg(funcs.expr('count(AIRCONDITIONER)')\\\n",
    "                              .alias('airconditioner_count'))"
   ]
  },
  {
   "cell_type": "code",
   "execution_count": 118,
   "id": "7492465b",
   "metadata": {},
   "outputs": [],
   "source": [
    "forrexcountaircon = forrexcountaircon.drop(\"AIRCONDITIONER\")"
   ]
  },
  {
   "cell_type": "code",
   "execution_count": 119,
   "id": "e34c2ee6",
   "metadata": {},
   "outputs": [],
   "source": [
    "forrexcountfreezer = forrex.select(\"CustomerPhoneNumber\",\"FREEZER\")\n",
    "forrexcountfreezer = forrexcountfreezer.filter(forrexcountfreezer.FREEZER != 0)\n",
    "forrexcountfreezer = forrexcountfreezer.groupby('CustomerPhoneNumber').agg(funcs.expr('count(FREEZER)')\\\n",
    "                              .alias('freezer_count'))"
   ]
  },
  {
   "cell_type": "code",
   "execution_count": 120,
   "id": "46432600",
   "metadata": {},
   "outputs": [],
   "source": [
    "forrexcountfreezer = forrexcountfreezer.drop(\"FREEZER\")"
   ]
  },
  {
   "cell_type": "code",
   "execution_count": 121,
   "id": "0a48369f",
   "metadata": {},
   "outputs": [],
   "source": [
    "forrexcountrefrigerator = forrex.select(\"CustomerPhoneNumber\",\"REFRIGERATOR\")\n",
    "forrexcountrefrigerator = forrexcountrefrigerator.filter(forrexcountrefrigerator.REFRIGERATOR != 0)\n",
    "forrexcountrefrigerator = forrexcountrefrigerator.groupby('CustomerPhoneNumber').agg(funcs.expr('count(REFRIGERATOR)')\\\n",
    "                              .alias('refrigerator_count'))"
   ]
  },
  {
   "cell_type": "code",
   "execution_count": 122,
   "id": "6ddd74b5",
   "metadata": {},
   "outputs": [],
   "source": [
    "forrexcountrefrigerator = forrexcountrefrigerator.drop(\"REFRIGERATOR\")"
   ]
  },
  {
   "cell_type": "code",
   "execution_count": 123,
   "id": "d5d9db1f",
   "metadata": {},
   "outputs": [],
   "source": [
    "forrexcountcomputer = forrex.select(\"CustomerPhoneNumber\",\"COMPUTER\")\n",
    "forrexcountcomputer = forrexcountcomputer.filter(forrexcountcomputer.COMPUTER != 0)\n",
    "forrexcountcomputer = forrexcountcomputer.groupby('CustomerPhoneNumber').agg(funcs.expr('count(COMPUTER)')\\\n",
    "                              .alias('computer_count'))"
   ]
  },
  {
   "cell_type": "code",
   "execution_count": 124,
   "id": "c4fdcba4",
   "metadata": {},
   "outputs": [],
   "source": [
    "forrexcountcomputer = forrexcountcomputer.drop(\"COMPUTER\")"
   ]
  },
  {
   "cell_type": "code",
   "execution_count": 125,
   "id": "cb7173b9",
   "metadata": {},
   "outputs": [],
   "source": [
    "forrexcountledtelevision = forrex.select(\"CustomerPhoneNumber\",\"LED TELEVISION\")\n",
    "forrexcountledtelevision = forrexcountledtelevision.filter(forrexcountledtelevision[\"LED TELEVISION\"] != 0)\n",
    "forrexcountledtelevision = forrexcountledtelevision.groupby(\"CustomerPhoneNumber\").agg(count(\"LED TELEVISION\").alias(\"Ledtelevision_count\"))"
   ]
  },
  {
   "cell_type": "code",
   "execution_count": 126,
   "id": "d789f6b7",
   "metadata": {},
   "outputs": [],
   "source": [
    "forrexcountledtelevision = forrexcountledtelevision.drop(\"LED TELEVISION\")"
   ]
  },
  {
   "cell_type": "code",
   "execution_count": 127,
   "id": "ead55931",
   "metadata": {},
   "outputs": [],
   "source": [
    "forrexcountledsmarttelevision = forrex.select(\"CustomerPhoneNumber\",\"LED SMART TELEVISION\")\n",
    "forrexcountledsmarttelevision = forrexcountledsmarttelevision.filter(forrexcountledsmarttelevision[\"LED SMART TELEVISION\"] != 0)\n",
    "forrexcountledsmarttelevision = forrexcountledsmarttelevision.groupby(\"CustomerPhoneNumber\").agg(count(\"LED SMART TELEVISION\").alias(\"Ledsmarttelevision_count\"))"
   ]
  },
  {
   "cell_type": "code",
   "execution_count": 128,
   "id": "5e29e9ea",
   "metadata": {},
   "outputs": [],
   "source": [
    "forrexcountledsmarttelevision = forrexcountledsmarttelevision.drop(\"LED SMART TELEVISION\")"
   ]
  },
  {
   "cell_type": "code",
   "execution_count": 129,
   "id": "38fd3b8a",
   "metadata": {},
   "outputs": [],
   "source": [
    "forrexcountwashingmachine = forrex.select(\"CustomerPhoneNumber\",\"WASHING MACHINE\")\n",
    "forrexcountwashingmachine = forrexcountwashingmachine.filter(forrexcountwashingmachine[\"WASHING MACHINE\"] != 0)\n",
    "forrexcountwashingmachine = forrexcountwashingmachine.groupby(\"CustomerPhoneNumber\").agg(count(\"WASHING MACHINE\").alias(\"Washingmachine_count\"))"
   ]
  },
  {
   "cell_type": "code",
   "execution_count": 130,
   "id": "8e3b6d9f",
   "metadata": {},
   "outputs": [],
   "source": [
    "forrexcountwashingmachine = forrexcountwashingmachine.drop(\"WASHING MACHINE\")"
   ]
  },
  {
   "cell_type": "code",
   "execution_count": 131,
   "id": "aede06fb",
   "metadata": {},
   "outputs": [],
   "source": [
    "forrexcountmicrowaveoven = forrex.select(\"CustomerPhoneNumber\",\"MICROWAVE OVEN\")\n",
    "forrexcountmicrowaveoven = forrexcountmicrowaveoven.filter(forrexcountmicrowaveoven[\"MICROWAVE OVEN\"] != 0)\n",
    "forrexcountmicrowaveoven = forrexcountmicrowaveoven.groupby(\"CustomerPhoneNumber\").agg(count(\"MICROWAVE OVEN\").alias(\"Microwaveoven_count\"))"
   ]
  },
  {
   "cell_type": "code",
   "execution_count": 132,
   "id": "d7b0b728",
   "metadata": {},
   "outputs": [],
   "source": [
    "forrexcountmicrowaveoven = forrexcountmicrowaveoven.drop(\"MICROWAVE OVEN\")"
   ]
  },
  {
   "cell_type": "code",
   "execution_count": 133,
   "id": "1a84e32c",
   "metadata": {},
   "outputs": [],
   "source": [
    "result = forrexcountaircon.join(forrexcountfreezer,['CustomerPhoneNumber'],how='full')"
   ]
  },
  {
   "cell_type": "code",
   "execution_count": 134,
   "id": "eee450c4",
   "metadata": {},
   "outputs": [],
   "source": [
    "result1 = result.join(forrexcountrefrigerator,['CustomerPhoneNumber'],how='full')"
   ]
  },
  {
   "cell_type": "code",
   "execution_count": 135,
   "id": "85de4b4d",
   "metadata": {},
   "outputs": [],
   "source": [
    "result2 = result1.join(forrexcountcomputer,['CustomerPhoneNumber'],how='full')"
   ]
  },
  {
   "cell_type": "code",
   "execution_count": 136,
   "id": "8a642b94",
   "metadata": {},
   "outputs": [],
   "source": [
    "result3 = result2.join(forrexcountledtelevision,['CustomerPhoneNumber'],how='full')"
   ]
  },
  {
   "cell_type": "code",
   "execution_count": 137,
   "id": "48f660b0",
   "metadata": {},
   "outputs": [],
   "source": [
    "result4 = result3.join(forrexcountledsmarttelevision,['CustomerPhoneNumber'],how='full')"
   ]
  },
  {
   "cell_type": "code",
   "execution_count": 138,
   "id": "3c68ac19",
   "metadata": {},
   "outputs": [],
   "source": [
    "result5 = result4.join(forrexcountwashingmachine,['CustomerPhoneNumber'],how='full')"
   ]
  },
  {
   "cell_type": "code",
   "execution_count": 139,
   "id": "9311c828",
   "metadata": {},
   "outputs": [],
   "source": [
    "result6 = result5.join(forrexcountmicrowaveoven,['CustomerPhoneNumber'],how='full')"
   ]
  },
  {
   "cell_type": "code",
   "execution_count": 140,
   "id": "71a14ab4",
   "metadata": {},
   "outputs": [],
   "source": [
    "result6 = result6.na.fill(value=0)\n"
   ]
  },
  {
   "cell_type": "markdown",
   "id": "611ade73",
   "metadata": {},
   "source": [
    "Now, we do not need customerphonenumber as we already counted the products. Also we need to draw forrex heat map showing the relationship between the products."
   ]
  },
  {
   "cell_type": "code",
   "execution_count": 141,
   "id": "eae953e7",
   "metadata": {},
   "outputs": [],
   "source": [
    "result6 = result6.dropDuplicates([\"CustomerPhoneNumber\"])"
   ]
  },
  {
   "cell_type": "code",
   "execution_count": 142,
   "id": "673db976",
   "metadata": {},
   "outputs": [],
   "source": [
    "result6 = result6.drop(\"CustomerPhoneNumber\")"
   ]
  },
  {
   "cell_type": "code",
   "execution_count": 143,
   "id": "cb1c66a8",
   "metadata": {},
   "outputs": [],
   "source": [
    "result7 = result6.cache()"
   ]
  },
  {
   "cell_type": "code",
   "execution_count": 145,
   "id": "74a36581",
   "metadata": {},
   "outputs": [],
   "source": [
    "result7 = result7.withColumn('AIRCONDITIONER',F.when((result7.airconditioner_count >= 1) , 1).otherwise(0))\n"
   ]
  },
  {
   "cell_type": "code",
   "execution_count": 146,
   "id": "67202e8e",
   "metadata": {},
   "outputs": [],
   "source": [
    "result7 = result7.withColumn('FREEZER',F.when((result7.freezer_count >= 1) , 1).otherwise(0))"
   ]
  },
  {
   "cell_type": "code",
   "execution_count": 147,
   "id": "2c4b3819",
   "metadata": {},
   "outputs": [],
   "source": [
    "result7 = result7.withColumn('REFRIGERATOR',F.when((result7.refrigerator_count >= 1) , 1).otherwise(0))"
   ]
  },
  {
   "cell_type": "code",
   "execution_count": 148,
   "id": "9b5acc5c",
   "metadata": {},
   "outputs": [
    {
     "name": "stderr",
     "output_type": "stream",
     "text": [
      "22/01/25 07:07:32 WARN WatchConnectionManager: Exec Failure\n",
      "java.io.EOFException\n",
      "\tat okio.RealBufferedSource.require(RealBufferedSource.java:61)\n",
      "\tat okio.RealBufferedSource.readByte(RealBufferedSource.java:74)\n",
      "\tat okhttp3.internal.ws.WebSocketReader.readHeader(WebSocketReader.java:117)\n",
      "\tat okhttp3.internal.ws.WebSocketReader.processNextFrame(WebSocketReader.java:101)\n",
      "\tat okhttp3.internal.ws.RealWebSocket.loopReader(RealWebSocket.java:274)\n",
      "\tat okhttp3.internal.ws.RealWebSocket$2.onResponse(RealWebSocket.java:214)\n",
      "\tat okhttp3.RealCall$AsyncCall.execute(RealCall.java:203)\n",
      "\tat okhttp3.internal.NamedRunnable.run(NamedRunnable.java:32)\n",
      "\tat java.base/java.util.concurrent.ThreadPoolExecutor.runWorker(ThreadPoolExecutor.java:1128)\n",
      "\tat java.base/java.util.concurrent.ThreadPoolExecutor$Worker.run(ThreadPoolExecutor.java:628)\n",
      "\tat java.base/java.lang.Thread.run(Thread.java:829)\n",
      "22/01/25 07:07:33 WARN ExecutorPodsWatchSnapshotSource: Kubernetes client has been closed (this is expected if the application is shutting down.)\n",
      "io.fabric8.kubernetes.client.KubernetesClientException: too old resource version: 39467183 (39470710)\n",
      "\tat io.fabric8.kubernetes.client.dsl.internal.WatchConnectionManager$1.onMessage(WatchConnectionManager.java:258)\n",
      "\tat okhttp3.internal.ws.RealWebSocket.onReadMessage(RealWebSocket.java:323)\n",
      "\tat okhttp3.internal.ws.WebSocketReader.readMessageFrame(WebSocketReader.java:219)\n",
      "\tat okhttp3.internal.ws.WebSocketReader.processNextFrame(WebSocketReader.java:105)\n",
      "\tat okhttp3.internal.ws.RealWebSocket.loopReader(RealWebSocket.java:274)\n",
      "\tat okhttp3.internal.ws.RealWebSocket$2.onResponse(RealWebSocket.java:214)\n",
      "\tat okhttp3.RealCall$AsyncCall.execute(RealCall.java:203)\n",
      "\tat okhttp3.internal.NamedRunnable.run(NamedRunnable.java:32)\n",
      "\tat java.base/java.util.concurrent.ThreadPoolExecutor.runWorker(ThreadPoolExecutor.java:1128)\n",
      "\tat java.base/java.util.concurrent.ThreadPoolExecutor$Worker.run(ThreadPoolExecutor.java:628)\n",
      "\tat java.base/java.lang.Thread.run(Thread.java:829)\n"
     ]
    }
   ],
   "source": [
    "result7 = result7.withColumn('COMPUTER',F.when((result7.computer_count >= 1) , 1).otherwise(0))"
   ]
  },
  {
   "cell_type": "code",
   "execution_count": 149,
   "id": "9ec51ab6",
   "metadata": {},
   "outputs": [],
   "source": [
    "result7 = result7.withColumn('LEDtelevision',F.when((result7.Ledtelevision_count >= 1) , 1).otherwise(0))"
   ]
  },
  {
   "cell_type": "code",
   "execution_count": 150,
   "id": "a9b16a72",
   "metadata": {},
   "outputs": [],
   "source": [
    "result7 = result7.withColumn('LEDsmarttelevision',F.when((result7.Ledsmarttelevision_count >= 1) , 1).otherwise(0))"
   ]
  },
  {
   "cell_type": "code",
   "execution_count": 151,
   "id": "10e3fa9a",
   "metadata": {},
   "outputs": [],
   "source": [
    "result7 = result7.withColumn('Washingmachine',F.when((result7.Washingmachine_count >= 1) , 1).otherwise(0))"
   ]
  },
  {
   "cell_type": "code",
   "execution_count": 152,
   "id": "18652324",
   "metadata": {},
   "outputs": [],
   "source": [
    "result7 = result7.withColumn('Microwaveoven',F.when((result7.Microwaveoven_count >= 1) , 1).otherwise(0))"
   ]
  },
  {
   "cell_type": "code",
   "execution_count": 154,
   "id": "838a4407",
   "metadata": {},
   "outputs": [],
   "source": [
    "result7 = result7.drop(\"airconditioner_count\",\"freezer_count\",\"refrigerator_count\",\"computer_count\",\"Ledtelevision_count\",\"Ledsmarttelevision_count\",\"Washingmachine_count\",\"Microwaveoven_count\")"
   ]
  },
  {
   "cell_type": "code",
   "execution_count": 155,
   "id": "0389a9d2",
   "metadata": {},
   "outputs": [],
   "source": [
    "result7 = result7.withColumn(\"sum\", col(\"AIRCONDITIONER\")+col(\"FREEZER\")+col(\"REFRIGERATOR\")+col(\"COMPUTER\")+col(\"LEDtelevision\")+col(\"LEDsmarttelevision\")+col(\"Washingmachine\")+col(\"Microwaveoven\"))\n"
   ]
  },
  {
   "cell_type": "code",
   "execution_count": 157,
   "id": "38cd8af1",
   "metadata": {},
   "outputs": [],
   "source": [
    "result7 = result7.filter(result7.sum != 1)"
   ]
  },
  {
   "cell_type": "code",
   "execution_count": 158,
   "id": "b0fce71f",
   "metadata": {},
   "outputs": [],
   "source": [
    "result7 = result7.drop(\"sum\")"
   ]
  },
  {
   "cell_type": "code",
   "execution_count": 160,
   "id": "9f33bc1a",
   "metadata": {},
   "outputs": [
    {
     "name": "stderr",
     "output_type": "stream",
     "text": [
      "22/01/25 08:26:29 WARN AbstractS3ACommitterFactory: Using standard FileOutputCommitter to commit work. This is slow and potentially unsafe.\n",
      "22/01/25 08:26:29 WARN DAGScheduler: Broadcasting large task binary with size 1223.6 KiB\n",
      "                                                                                \r"
     ]
    }
   ],
   "source": [
    "forrextotalnore4 = result7.limit(183395)\n",
    "\n",
    "forrextotalnore4.write.format(\"csv\").save(\"s3a://bigdata-dev-cmfcknil/raw/init/posdb/pos/forrexheatmapemployeeremovedfinal7.csv\",header = 'true')\n",
    "\n",
    "#forrextotalnore.write.option(\"header\",true).csv(\"s3a://bigdata-dev-cmfcknil/raw/init/posdb/pos/forrexheatmapemployeeremovedfinal3.csv\")\n"
   ]
  },
  {
   "cell_type": "code",
   "execution_count": null,
   "id": "68ddf0ab",
   "metadata": {},
   "outputs": [],
   "source": []
  }
 ],
 "metadata": {
  "kernelspec": {
   "display_name": "Python 3 (ipykernel)",
   "language": "python",
   "name": "python3"
  },
  "language_info": {
   "codemirror_mode": {
    "name": "ipython",
    "version": 3
   },
   "file_extension": ".py",
   "mimetype": "text/x-python",
   "name": "python",
   "nbconvert_exporter": "python",
   "pygments_lexer": "ipython3",
   "version": "3.8.10"
  }
 },
 "nbformat": 4,
 "nbformat_minor": 5
}
